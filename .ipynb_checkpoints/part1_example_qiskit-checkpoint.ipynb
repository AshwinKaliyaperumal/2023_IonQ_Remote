{
 "cells": [
  {
   "cell_type": "code",
   "execution_count": 15,
   "metadata": {},
   "outputs": [],
   "source": [
    "import qiskit\n",
    "from qiskit import quantum_info\n",
    "from qiskit.execute_function import execute\n",
    "from qiskit import BasicAer\n",
    "import numpy as np\n",
    "import pickle\n",
    "import json\n",
    "import os\n",
    "from collections import Counter\n",
    "from sklearn.metrics import mean_squared_error\n",
    "from typing import Dict, List\n",
    "import matplotlib.pyplot as plt\n",
    "\n",
    "import math\n",
    "from math import pi\n",
    "from qiskit.circuit.library import MCMT\n",
    "\n",
    "#define utility functions\n",
    "\n",
    "def simulate(circuit: qiskit.QuantumCircuit) -> dict:\n",
    "    \"\"\"Simulate the circuit, give the state vector as the result.\"\"\"\n",
    "    backend = BasicAer.get_backend('statevector_simulator')\n",
    "    job = execute(circuit, backend)\n",
    "    result = job.result()\n",
    "    \n",
    "    #####################\n",
    "    # added code - Ashwin\n",
    "    counts = result.get_counts(circuit)\n",
    "    return counts\n",
    "    #####################\n",
    "    \n",
    "    state_vector = result.get_statevector()\n",
    "    \n",
    "    histogram = dict()\n",
    "    for i in range(len(state_vector)):\n",
    "        population = abs(state_vector[i]) ** 2\n",
    "        if population > 1e-9:\n",
    "            histogram[i] = population\n",
    "    \n",
    "    return histogram\n",
    "\n",
    "\n",
    "def histogram_to_category(histogram):\n",
    "    \"\"\"This function take a histogram representations of circuit execution results, and process into labels as described in \n",
    "    the problem description.\"\"\"\n",
    "    assert abs(sum(histogram.values())-1)<1e-8\n",
    "    positive=0\n",
    "    for key in histogram.keys():\n",
    "        digits = bin(int(key))[2:].zfill(20)\n",
    "        if digits[-1]=='0':\n",
    "            positive+=histogram[key]\n",
    "        \n",
    "    return positive\n",
    "\n",
    "\n",
    "def count_gates(circuit: qiskit.QuantumCircuit) -> Dict[int, int]:\n",
    "    \"\"\"Returns the number of gate operations with each number of qubits.\"\"\"\n",
    "    counter = Counter([len(gate[1]) for gate in circuit.data])\n",
    "    #feel free to comment out the following two lines. But make sure you don't have k-qubit gates in your circuit\n",
    "    #for k>2\n",
    "    #for i in range(2,20):\n",
    "    #    assert counter[i]==0\n",
    "        \n",
    "    return counter\n",
    "\n",
    "\n",
    "def image_mse(image1,image2):\n",
    "    # Using sklearns mean squared error:\n",
    "    # https://scikit-learn.org/stable/modules/generated/sklearn.metrics.mean_squared_error.html\n",
    "    return mean_squared_error(image1, image2)"
   ]
  },
  {
   "cell_type": "code",
   "execution_count": 16,
   "metadata": {},
   "outputs": [],
   "source": [
    "#load the mock data (for testing only)\n",
    "files=os.listdir(\"mock_data\")\n",
    "dataset=list()\n",
    "for file in files:\n",
    "    with open('mock_data/'+file, \"r\") as infile:\n",
    "        loaded = json.load(infile)\n",
    "        dataset.append(loaded)"
   ]
  },
  {
   "cell_type": "code",
   "execution_count": 17,
   "metadata": {},
   "outputs": [
    {
     "name": "stdout",
     "output_type": "stream",
     "text": [
      "0.0035832372164552096\n",
      "0.0035832372164552096\n"
     ]
    },
    {
     "data": {
      "image/png": "[encoded data removed]",
      "text/plain": [
       "<Figure size 432x288 with 1 Axes>"
      ]
     },
     "metadata": {
      "needs_background": "light"
     },
     "output_type": "display_data"
    }
   ],
   "source": [
    "#load the actual hackthon data (fashion-mnist)\n",
    "images=np.load('data/images.npy')\n",
    "labels=np.load('data/labels.npy')\n",
    "#you can visualize it\n",
    "plt.imshow(images[1946])\n",
    "labels[1946]\n",
    "print(max(images[1946][2]))\n",
    "print(images[1946][2][16])"
   ]
  },
  {
   "cell_type": "code",
   "execution_count": 50,
   "metadata": {},
   "outputs": [],
   "source": [
    "#submission to part 1, you should make this into a .py file\n",
    "\n",
    "n=len(dataset)\n",
    "mse=0\n",
    "gatecount=0\n",
    "\n",
    "# Functions 'encode' and 'decode' are dummy.\n",
    "def encode(image):\n",
    "    num_qubits = int(math.log(len(image) * len(image), 2) + 1)\n",
    "    #print(num_qubits)\n",
    "    \n",
    "    q = qiskit.QuantumRegister(num_qubits)\n",
    "    a = qiskit.QuantumRegister(1)\n",
    "    circuit = qiskit.QuantumCircuit(q, a)\n",
    "    \n",
    "    index_qubits = []\n",
    "    # initializes circuit with Hadamard gates other than last qubit\n",
    "    for i in range(num_qubits):\n",
    "        circuit.h(i)\n",
    "        index_qubits.append(i)\n",
    "    count = 0\n",
    "    theta_list = []\n",
    "    \n",
    "    # implements rest of FRQI\n",
    "    for index in range(pow(2, num_qubits)):\n",
    "        if index < len(image) * len(image):\n",
    "            theta = image[int(index / len(image))][index % len(image)]\n",
    "            theta_list.append(theta)\n",
    "        else:\n",
    "            theta_list.append(0)         \n",
    "    \n",
    "    #print(len(theta_list))\n",
    "    circuit.ucry(angle_list = theta_list, q_controls = index_qubits, q_target = num_qubits)\n",
    "            \n",
    "    return circuit\n",
    "\n",
    "def decode(histogram):\n",
    "    num_qubits = len(list(histogram.keys())[0]) - 1\n",
    "    #print(histogram)\n",
    "    \n",
    "    image = [ [0] * 28 for i in range(28)]\n",
    "    \n",
    "    for key in histogram.keys():\n",
    "        \n",
    "        color = int(key[:1])\n",
    "        index = int('0b' + key[1:], 2)\n",
    "            \n",
    "        if index < 784 and color == 1:\n",
    "            if ('0' + key[1:]) in histogram:\n",
    "                key0 = '0' + key[1:]\n",
    "                image[int(index / 28)][index % 28] = (histogram[key]) / (histogram[key0] + histogram[key])\n",
    "            else:\n",
    "                image[int(index / 28)][index % 28] = 1\n",
    "        \n",
    "            \n",
    "    return image\n",
    "\n",
    "def run_part1(image):    \n",
    "    #plt.imshow(image)\n",
    "    #print('done')\n",
    "    \n",
    "    #encode image into a circuit\n",
    "    circuit=encode(image)\n",
    "\n",
    "    #simulate circuit\n",
    "    histogram=simulate(circuit)\n",
    "\n",
    "    #reconstruct the image\n",
    "    image_re=decode(histogram)\n",
    "\n",
    "    plt.imshow(image_re)\n",
    "    \n",
    "    return circuit,image_re"
   ]
  },
  {
   "cell_type": "code",
   "execution_count": 51,
   "metadata": {},
   "outputs": [
    {
     "name": "stdout",
     "output_type": "stream",
     "text": [
      "0.9999951753431863\n"
     ]
    },
    {
     "data": {
      "image/png": "[encoded data removed]",
      "text/plain": [
       "<Figure size 432x288 with 1 Axes>"
      ]
     },
     "metadata": {
      "needs_background": "light"
     },
     "output_type": "display_data"
    }
   ],
   "source": [
    "#how we grade your submission\n",
    "\n",
    "n= 1 #len(dataset)\n",
    "mse=0\n",
    "gatecount=0\n",
    "\n",
    "images=np.load('data/images.npy')\n",
    "\n",
    "count = 0 \n",
    "\n",
    "for data in dataset:\n",
    "    print(count)\n",
    "    count += 1 # really bad progress bar\n",
    "    \n",
    "    #print(data)\n",
    "    #encode image into circuit\n",
    "    circuit,image_re=run_part1(data)\n",
    "   \n",
    "    #count the number of 2qubit gates used\n",
    "    gatecount+=count_gates(circuit)[2]\n",
    "    \n",
    "    #calculate mse\n",
    "    mse+=image_mse(data,image_re)\n",
    "\n",
    "#fidelity of reconstruction\n",
    "f=1-mse\n",
    "gatecount=gatecount/n\n",
    "\n",
    "#score for part1 \n",
    "print(f*(0.999**gatecount))"
   ]
  },
  {
   "cell_type": "code",
   "execution_count": null,
   "metadata": {},
   "outputs": [],
   "source": []
  },
  {
   "cell_type": "code",
   "execution_count": null,
   "metadata": {},
   "outputs": [],
   "source": []
  }
 ],
 "metadata": {
  "kernelspec": {
   "display_name": "Python 3 [Default]",
   "language": "python",
   "name": "python3"
  },
  "language_info": {
   "codemirror_mode": {
    "name": "ipython",
    "version": 3
   },
   "file_extension": ".py",
   "mimetype": "text/x-python",
   "name": "python",
   "nbconvert_exporter": "python",
   "pygments_lexer": "ipython3",
   "version": "3.9.10"
  },
  "vscode": {
   "interpreter": {
    "hash": "397704579725e15f5c7cb49fe5f0341eb7531c82d19f2c29d197e8b64ab5776b"
   }
  }
 },
 "nbformat": 4,
 "nbformat_minor": 4
}
