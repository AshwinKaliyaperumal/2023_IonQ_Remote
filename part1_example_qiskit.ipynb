{
 "cells": [
  {
   "cell_type": "code",
   "execution_count": 201,
   "metadata": {},
   "outputs": [],
   "source": [
    "import qiskit\n",
    "from qiskit import quantum_info\n",
    "from qiskit.execute_function import execute\n",
    "from qiskit import BasicAer\n",
    "import numpy as np\n",
    "import pickle\n",
    "import json\n",
    "import os\n",
    "from collections import Counter\n",
    "from sklearn.metrics import mean_squared_error\n",
    "from typing import Dict, List\n",
    "import matplotlib.pyplot as plt\n",
    "\n",
    "from math import pi\n",
    "from qiskit.circuit.library import MCMT\n",
    "\n",
    "#define utility functions\n",
    "\n",
    "def simulate(circuit: qiskit.QuantumCircuit) -> dict:\n",
    "    \"\"\"Simulate the circuit, give the state vector as the result.\"\"\"\n",
    "    backend = BasicAer.get_backend('statevector_simulator')\n",
    "    job = execute(circuit, backend)\n",
    "    result = job.result()\n",
    "    \n",
    "    #####################\n",
    "    # added code - Ashwin\n",
    "    counts = result.get_counts(circuit)\n",
    "    return counts\n",
    "    #####################\n",
    "    \n",
    "    state_vector = result.get_statevector()\n",
    "    \n",
    "    histogram = dict()\n",
    "    for i in range(len(state_vector)):\n",
    "        population = abs(state_vector[i]) ** 2\n",
    "        if population > 1e-9:\n",
    "            histogram[i] = population\n",
    "    \n",
    "    return histogram\n",
    "\n",
    "\n",
    "def histogram_to_category(histogram):\n",
    "    \"\"\"This function take a histogram representations of circuit execution results, and process into labels as described in \n",
    "    the problem description.\"\"\"\n",
    "    assert abs(sum(histogram.values())-1)<1e-8\n",
    "    positive=0\n",
    "    for key in histogram.keys():\n",
    "        digits = bin(int(key))[2:].zfill(20)\n",
    "        if digits[-1]=='0':\n",
    "            positive+=histogram[key]\n",
    "        \n",
    "    return positive\n",
    "\n",
    "\n",
    "def count_gates(circuit: qiskit.QuantumCircuit) -> Dict[int, int]:\n",
    "    \"\"\"Returns the number of gate operations with each number of qubits.\"\"\"\n",
    "    counter = Counter([len(gate[1]) for gate in circuit.data])\n",
    "    #feel free to comment out the following two lines. But make sure you don't have k-qubit gates in your circuit\n",
    "    #for k>2\n",
    "    #for i in range(2,20):\n",
    "    #    assert counter[i]==0\n",
    "        \n",
    "    return counter\n",
    "\n",
    "\n",
    "def image_mse(image1,image2):\n",
    "    # Using sklearns mean squared error:\n",
    "    # https://scikit-learn.org/stable/modules/generated/sklearn.metrics.mean_squared_error.html\n",
    "    return mean_squared_error(image1, image2)"
   ]
  },
  {
   "cell_type": "code",
   "execution_count": 202,
   "metadata": {},
   "outputs": [],
   "source": [
    "#load the mock data (for testing only)\n",
    "files=os.listdir(\"mock_data\")\n",
    "dataset=list()\n",
    "for file in files:\n",
    "    with open('mock_data/'+file, \"r\") as infile:\n",
    "        loaded = json.load(infile)\n",
    "        dataset.append(loaded)"
   ]
  },
  {
   "cell_type": "code",
   "execution_count": 203,
   "metadata": {},
   "outputs": [
    {
     "data": {
      "text/plain": [
       "False"
      ]
     },
     "execution_count": 203,
     "metadata": {},
     "output_type": "execute_result"
    },
    {
     "data": {
      "image/png": "[encoded data removed]",
      "text/plain": [
       "<Figure size 432x288 with 1 Axes>"
      ]
     },
     "metadata": {
      "needs_background": "light"
     },
     "output_type": "display_data"
    }
   ],
   "source": [
    "#load the actual hackthon data (fashion-mnist)\n",
    "images=np.load('data/images.npy')\n",
    "labels=np.load('data/labels.npy')\n",
    "#you can visualize it\n",
    "plt.imshow(images[1946])\n",
    "labels[1946]"
   ]
  },
  {
   "cell_type": "code",
   "execution_count": 268,
   "metadata": {},
   "outputs": [],
   "source": [
    "#submission to part 1, you should make this into a .py file\n",
    "\n",
    "n=len(dataset)\n",
    "mse=0\n",
    "gatecount=0\n",
    "\n",
    "# Functions 'encode' and 'decode' are dummy.\n",
    "def encode(image):\n",
    "    num_qubits = len(image)\n",
    "    \n",
    "    q = qiskit.QuantumRegister(num_qubits)\n",
    "    a = qiskit.QuantumRegister(1)\n",
    "    circuit = qiskit.QuantumCircuit(q, a)\n",
    "    \n",
    "    # initializes circuit with Hadamard gates other than last qubit\n",
    "    for i in range(num_qubits):\n",
    "        circuit.h(i)\n",
    "        \n",
    "    count = 0\n",
    "    theta_list = []\n",
    "    \n",
    "    index_qubits = []\n",
    "    \n",
    "    for i in range(num_qubits):\n",
    "        index_qubits.append(i)\n",
    "    \n",
    "    # implements rest of FRQI\n",
    "    for row in range(len(image)):\n",
    "        for column in range(len(image)):\n",
    "            theta = image[row][column]\n",
    "            theta_list.append(theta)\n",
    "            \n",
    "    circuit.ucry(angle_list = theta_list, q_controls = index_qubits, q_target = num_qubits)\n",
    "            \n",
    "    return circuit\n",
    "\n",
    "def decode(histogram):\n",
    "    num_qubits = len(list(histogram.keys())[0]) - 1\n",
    "    print(histogram)\n",
    "    \n",
    "    image = [ [0] * num_qubits for i in range(num_qubits)]\n",
    "    \n",
    "    for key in histogram.keys():\n",
    "        \n",
    "        color = int(key[:1])\n",
    "        index = int('0b' + key[1:], 2)\n",
    "            \n",
    "        if color == 1:\n",
    "            image[int(index / num_qubits)][index % num_qubits] = 1\n",
    "            \n",
    "    return image\n",
    "\n",
    "def run_part1(image):    \n",
    "    #print('Initial image: ')\n",
    "    #print(image) # prints initial image\n",
    "    #print()\n",
    "    \n",
    "    #encode image into a circuit\n",
    "    circuit=encode(image)\n",
    "\n",
    "    #simulate circuit\n",
    "    histogram=simulate(circuit)\n",
    "\n",
    "    #reconstruct the image\n",
    "    image_re=decode(histogram)\n",
    "\n",
    "    #print('Final image: ')\n",
    "    #print(image_re) # prints final image\n",
    "    #print()\n",
    "    \n",
    "    return circuit,image_re"
   ]
  },
  {
   "cell_type": "code",
   "execution_count": 269,
   "metadata": {},
   "outputs": [
    {
     "ename": "QiskitError",
     "evalue": "'The number of controlled rotation gates is not a non-negative power of 2.'",
     "output_type": "error",
     "traceback": [
      "\u001b[0;31m---------------------------------------------------------------------------\u001b[0m",
      "\u001b[0;31mQiskitError\u001b[0m                               Traceback (most recent call last)",
      "Cell \u001b[0;32mIn[269], line 22\u001b[0m\n\u001b[1;32m      7\u001b[0m images\u001b[38;5;241m=\u001b[39mnp\u001b[38;5;241m.\u001b[39mload(\u001b[38;5;124m'\u001b[39m\u001b[38;5;124mdata/images.npy\u001b[39m\u001b[38;5;124m'\u001b[39m)\n\u001b[1;32m     10\u001b[0m \u001b[38;5;66;03m#for data in dataset:\u001b[39;00m\n\u001b[1;32m     11\u001b[0m \u001b[38;5;66;03m#    print(data)\u001b[39;00m\n\u001b[1;32m     12\u001b[0m \u001b[38;5;66;03m#    #encode image into circuit\u001b[39;00m\n\u001b[0;32m   (...)\u001b[0m\n\u001b[1;32m     20\u001b[0m \n\u001b[1;32m     21\u001b[0m     \u001b[38;5;66;03m#encode image into circuit\u001b[39;00m\n\u001b[0;32m---> 22\u001b[0m circuit,image_re\u001b[38;5;241m=\u001b[39m\u001b[43mrun_part1\u001b[49m\u001b[43m(\u001b[49m\u001b[43mimages\u001b[49m\u001b[43m[\u001b[49m\u001b[38;5;241;43m1946\u001b[39;49m\u001b[43m]\u001b[49m\u001b[43m)\u001b[49m\n\u001b[1;32m     24\u001b[0m     \u001b[38;5;66;03m#count the number of 2qubit gates used\u001b[39;00m\n\u001b[1;32m     25\u001b[0m gatecount\u001b[38;5;241m+\u001b[39m\u001b[38;5;241m=\u001b[39mcount_gates(circuit)[\u001b[38;5;241m2\u001b[39m]\n",
      "Cell \u001b[0;32mIn[268], line 61\u001b[0m, in \u001b[0;36mrun_part1\u001b[0;34m(image)\u001b[0m\n\u001b[1;32m     55\u001b[0m \u001b[38;5;28;01mdef\u001b[39;00m \u001b[38;5;21mrun_part1\u001b[39m(image):    \n\u001b[1;32m     56\u001b[0m     \u001b[38;5;66;03m#print('Initial image: ')\u001b[39;00m\n\u001b[1;32m     57\u001b[0m     \u001b[38;5;66;03m#print(image) # prints initial image\u001b[39;00m\n\u001b[1;32m     58\u001b[0m     \u001b[38;5;66;03m#print()\u001b[39;00m\n\u001b[1;32m     59\u001b[0m     \n\u001b[1;32m     60\u001b[0m     \u001b[38;5;66;03m#encode image into a circuit\u001b[39;00m\n\u001b[0;32m---> 61\u001b[0m     circuit\u001b[38;5;241m=\u001b[39m\u001b[43mencode\u001b[49m\u001b[43m(\u001b[49m\u001b[43mimage\u001b[49m\u001b[43m)\u001b[49m\n\u001b[1;32m     63\u001b[0m     \u001b[38;5;66;03m#simulate circuit\u001b[39;00m\n\u001b[1;32m     64\u001b[0m     histogram\u001b[38;5;241m=\u001b[39msimulate(circuit)\n",
      "Cell \u001b[0;32mIn[268], line 33\u001b[0m, in \u001b[0;36mencode\u001b[0;34m(image)\u001b[0m\n\u001b[1;32m     30\u001b[0m         theta \u001b[38;5;241m=\u001b[39m image[row][column]\n\u001b[1;32m     31\u001b[0m         theta_list\u001b[38;5;241m.\u001b[39mappend(theta)\n\u001b[0;32m---> 33\u001b[0m \u001b[43mcircuit\u001b[49m\u001b[38;5;241;43m.\u001b[39;49m\u001b[43mucry\u001b[49m\u001b[43m(\u001b[49m\u001b[43mangle_list\u001b[49m\u001b[43m \u001b[49m\u001b[38;5;241;43m=\u001b[39;49m\u001b[43m \u001b[49m\u001b[43mtheta_list\u001b[49m\u001b[43m,\u001b[49m\u001b[43m \u001b[49m\u001b[43mq_controls\u001b[49m\u001b[43m \u001b[49m\u001b[38;5;241;43m=\u001b[39;49m\u001b[43m \u001b[49m\u001b[43mindex_qubits\u001b[49m\u001b[43m,\u001b[49m\u001b[43m \u001b[49m\u001b[43mq_target\u001b[49m\u001b[43m \u001b[49m\u001b[38;5;241;43m=\u001b[39;49m\u001b[43m \u001b[49m\u001b[43mnum_qubits\u001b[49m\u001b[43m)\u001b[49m\n\u001b[1;32m     35\u001b[0m \u001b[38;5;28;01mreturn\u001b[39;00m circuit\n",
      "File \u001b[0;32m/opt/.qbraid/environments/qbraid_000000/pyenv/lib/python3.9/site-packages/qiskit/extensions/quantum_initializer/ucry.py:83\u001b[0m, in \u001b[0;36mucry\u001b[0;34m(self, angle_list, q_controls, q_target)\u001b[0m\n\u001b[1;32m     81\u001b[0m num_contr \u001b[38;5;241m=\u001b[39m math\u001b[38;5;241m.\u001b[39mlog2(\u001b[38;5;28mlen\u001b[39m(angle_list))\n\u001b[1;32m     82\u001b[0m \u001b[38;5;28;01mif\u001b[39;00m num_contr \u001b[38;5;241m<\u001b[39m \u001b[38;5;241m0\u001b[39m \u001b[38;5;129;01mor\u001b[39;00m \u001b[38;5;129;01mnot\u001b[39;00m num_contr\u001b[38;5;241m.\u001b[39mis_integer():\n\u001b[0;32m---> 83\u001b[0m     \u001b[38;5;28;01mraise\u001b[39;00m QiskitError(\n\u001b[1;32m     84\u001b[0m         \u001b[38;5;124m\"\u001b[39m\u001b[38;5;124mThe number of controlled rotation gates is not a non-negative power of 2.\u001b[39m\u001b[38;5;124m\"\u001b[39m\n\u001b[1;32m     85\u001b[0m     )\n\u001b[1;32m     86\u001b[0m \u001b[38;5;66;03m# Check if number of control qubits does correspond to the number of rotations\u001b[39;00m\n\u001b[1;32m     87\u001b[0m \u001b[38;5;28;01mif\u001b[39;00m num_contr \u001b[38;5;241m!=\u001b[39m \u001b[38;5;28mlen\u001b[39m(q_controls):\n",
      "\u001b[0;31mQiskitError\u001b[0m: 'The number of controlled rotation gates is not a non-negative power of 2.'"
     ]
    }
   ],
   "source": [
    "#how we grade your submission\n",
    "\n",
    "n=len(dataset)\n",
    "mse=0\n",
    "gatecount=0\n",
    "\n",
    "images=np.load('data/images.npy')\n",
    "\n",
    "\n",
    "#for data in dataset:\n",
    "#    print(data)\n",
    "#    #encode image into circuit\n",
    "#    circuit,image_re=run_part1(data['image'])\n",
    "#    \n",
    "#    #count the number of 2qubit gates used\n",
    "#    gatecount+=count_gates(circuit)[2]\n",
    "#    \n",
    "#    #calculate mse\n",
    "#    mse+=image_mse(data['image'],image_re)\n",
    "\n",
    "    #encode image into circuit\n",
    "circuit,image_re=run_part1(images[1946])\n",
    "    \n",
    "    #count the number of 2qubit gates used\n",
    "gatecount+=count_gates(circuit)[2]\n",
    "    \n",
    "    #calculate mse\n",
    "mse+=image_mse(images[1946],image_re)\n",
    "\n",
    "\n",
    "#fidelity of reconstruction\n",
    "f=1-mse\n",
    "gatecount=gatecount/n\n",
    "\n",
    "#score for part1 \n",
    "print(f*(0.999**gatecount))"
   ]
  },
  {
   "cell_type": "code",
   "execution_count": null,
   "metadata": {},
   "outputs": [],
   "source": []
  },
  {
   "cell_type": "code",
   "execution_count": null,
   "metadata": {},
   "outputs": [],
   "source": []
  }
 ],
 "metadata": {
  "kernelspec": {
   "display_name": "Python 3 [Default]",
   "language": "python",
   "name": "python3"
  },
  "language_info": {
   "codemirror_mode": {
    "name": "ipython",
    "version": 3
   },
   "file_extension": ".py",
   "mimetype": "text/x-python",
   "name": "python",
   "nbconvert_exporter": "python",
   "pygments_lexer": "ipython3",
   "version": "3.9.10"
  },
  "vscode": {
   "interpreter": {
    "hash": "397704579725e15f5c7cb49fe5f0341eb7531c82d19f2c29d197e8b64ab5776b"
   }
  }
 },
 "nbformat": 4,
 "nbformat_minor": 4
}
